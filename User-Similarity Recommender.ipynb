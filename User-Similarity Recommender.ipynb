{
 "cells": [
  {
   "cell_type": "code",
   "execution_count": 2,
   "metadata": {
    "collapsed": false
   },
   "outputs": [],
   "source": [
    "import graphlab as gl\n",
    "import numpy as np\n",
    "import math"
   ]
  },
  {
   "cell_type": "code",
   "execution_count": 4,
   "metadata": {
    "collapsed": false
   },
   "outputs": [],
   "source": [
    "book_data = gl.load_sframe(\"./book_data_clean/\")"
   ]
  },
  {
   "cell_type": "code",
   "execution_count": 6,
   "metadata": {
    "collapsed": false
   },
   "outputs": [
    {
     "data": {
      "text/html": [
       "<div style=\"max-height:1000px;max-width:1500px;overflow:auto;\"><table frame=\"box\" rules=\"cols\">\n",
       "    <tr>\n",
       "        <th style=\"padding-left: 1em; padding-right: 1em; text-align: center\">book_id</th>\n",
       "        <th style=\"padding-left: 1em; padding-right: 1em; text-align: center\">title</th>\n",
       "        <th style=\"padding-left: 1em; padding-right: 1em; text-align: center\">author</th>\n",
       "        <th style=\"padding-left: 1em; padding-right: 1em; text-align: center\">year</th>\n",
       "        <th style=\"padding-left: 1em; padding-right: 1em; text-align: center\">publisher</th>\n",
       "    </tr>\n",
       "    <tr>\n",
       "        <td style=\"padding-left: 1em; padding-right: 1em; text-align: center; vertical-align: top\">195153448</td>\n",
       "        <td style=\"padding-left: 1em; padding-right: 1em; text-align: center; vertical-align: top\">Classical Mythology</td>\n",
       "        <td style=\"padding-left: 1em; padding-right: 1em; text-align: center; vertical-align: top\">Mark P. O. Morford</td>\n",
       "        <td style=\"padding-left: 1em; padding-right: 1em; text-align: center; vertical-align: top\">2002</td>\n",
       "        <td style=\"padding-left: 1em; padding-right: 1em; text-align: center; vertical-align: top\">Oxford University Press</td>\n",
       "    </tr>\n",
       "    <tr>\n",
       "        <td style=\"padding-left: 1em; padding-right: 1em; text-align: center; vertical-align: top\">2005018</td>\n",
       "        <td style=\"padding-left: 1em; padding-right: 1em; text-align: center; vertical-align: top\">Clara Callan</td>\n",
       "        <td style=\"padding-left: 1em; padding-right: 1em; text-align: center; vertical-align: top\">Richard Bruce Wright</td>\n",
       "        <td style=\"padding-left: 1em; padding-right: 1em; text-align: center; vertical-align: top\">2001</td>\n",
       "        <td style=\"padding-left: 1em; padding-right: 1em; text-align: center; vertical-align: top\">HarperFlamingo Canada</td>\n",
       "    </tr>\n",
       "    <tr>\n",
       "        <td style=\"padding-left: 1em; padding-right: 1em; text-align: center; vertical-align: top\">60973129</td>\n",
       "        <td style=\"padding-left: 1em; padding-right: 1em; text-align: center; vertical-align: top\">Decision in Normandy</td>\n",
       "        <td style=\"padding-left: 1em; padding-right: 1em; text-align: center; vertical-align: top\">Carlo D'Este</td>\n",
       "        <td style=\"padding-left: 1em; padding-right: 1em; text-align: center; vertical-align: top\">1991</td>\n",
       "        <td style=\"padding-left: 1em; padding-right: 1em; text-align: center; vertical-align: top\">HarperPerennial</td>\n",
       "    </tr>\n",
       "    <tr>\n",
       "        <td style=\"padding-left: 1em; padding-right: 1em; text-align: center; vertical-align: top\">374157065</td>\n",
       "        <td style=\"padding-left: 1em; padding-right: 1em; text-align: center; vertical-align: top\">Flu: The Story of the<br>Great Influenza Pandemic ...</td>\n",
       "        <td style=\"padding-left: 1em; padding-right: 1em; text-align: center; vertical-align: top\">Gina Bari Kolata</td>\n",
       "        <td style=\"padding-left: 1em; padding-right: 1em; text-align: center; vertical-align: top\">1999</td>\n",
       "        <td style=\"padding-left: 1em; padding-right: 1em; text-align: center; vertical-align: top\">Farrar Straus Giroux</td>\n",
       "    </tr>\n",
       "    <tr>\n",
       "        <td style=\"padding-left: 1em; padding-right: 1em; text-align: center; vertical-align: top\">393045218</td>\n",
       "        <td style=\"padding-left: 1em; padding-right: 1em; text-align: center; vertical-align: top\">The Mummies of Urumchi</td>\n",
       "        <td style=\"padding-left: 1em; padding-right: 1em; text-align: center; vertical-align: top\">E. J. W. Barber</td>\n",
       "        <td style=\"padding-left: 1em; padding-right: 1em; text-align: center; vertical-align: top\">1999</td>\n",
       "        <td style=\"padding-left: 1em; padding-right: 1em; text-align: center; vertical-align: top\">W. W. Norton &amp;amp,<br>Company ...</td>\n",
       "    </tr>\n",
       "    <tr>\n",
       "        <td style=\"padding-left: 1em; padding-right: 1em; text-align: center; vertical-align: top\">399135782</td>\n",
       "        <td style=\"padding-left: 1em; padding-right: 1em; text-align: center; vertical-align: top\">The Kitchen God's Wife</td>\n",
       "        <td style=\"padding-left: 1em; padding-right: 1em; text-align: center; vertical-align: top\">Amy Tan</td>\n",
       "        <td style=\"padding-left: 1em; padding-right: 1em; text-align: center; vertical-align: top\">1991</td>\n",
       "        <td style=\"padding-left: 1em; padding-right: 1em; text-align: center; vertical-align: top\">Putnam Pub Group</td>\n",
       "    </tr>\n",
       "    <tr>\n",
       "        <td style=\"padding-left: 1em; padding-right: 1em; text-align: center; vertical-align: top\">425176428</td>\n",
       "        <td style=\"padding-left: 1em; padding-right: 1em; text-align: center; vertical-align: top\">What If?: The World's<br>Foremost Military ...</td>\n",
       "        <td style=\"padding-left: 1em; padding-right: 1em; text-align: center; vertical-align: top\">Robert Cowley</td>\n",
       "        <td style=\"padding-left: 1em; padding-right: 1em; text-align: center; vertical-align: top\">2000</td>\n",
       "        <td style=\"padding-left: 1em; padding-right: 1em; text-align: center; vertical-align: top\">Berkley Publishing Group</td>\n",
       "    </tr>\n",
       "    <tr>\n",
       "        <td style=\"padding-left: 1em; padding-right: 1em; text-align: center; vertical-align: top\">671870432</td>\n",
       "        <td style=\"padding-left: 1em; padding-right: 1em; text-align: center; vertical-align: top\">PLEADING GUILTY</td>\n",
       "        <td style=\"padding-left: 1em; padding-right: 1em; text-align: center; vertical-align: top\">Scott Turow</td>\n",
       "        <td style=\"padding-left: 1em; padding-right: 1em; text-align: center; vertical-align: top\">1993</td>\n",
       "        <td style=\"padding-left: 1em; padding-right: 1em; text-align: center; vertical-align: top\">Audioworks</td>\n",
       "    </tr>\n",
       "    <tr>\n",
       "        <td style=\"padding-left: 1em; padding-right: 1em; text-align: center; vertical-align: top\">679425608</td>\n",
       "        <td style=\"padding-left: 1em; padding-right: 1em; text-align: center; vertical-align: top\">Under the Black Flag: The<br>Romance and the Reality ...</td>\n",
       "        <td style=\"padding-left: 1em; padding-right: 1em; text-align: center; vertical-align: top\">David Cordingly</td>\n",
       "        <td style=\"padding-left: 1em; padding-right: 1em; text-align: center; vertical-align: top\">1996</td>\n",
       "        <td style=\"padding-left: 1em; padding-right: 1em; text-align: center; vertical-align: top\">Random House</td>\n",
       "    </tr>\n",
       "    <tr>\n",
       "        <td style=\"padding-left: 1em; padding-right: 1em; text-align: center; vertical-align: top\">074322678X</td>\n",
       "        <td style=\"padding-left: 1em; padding-right: 1em; text-align: center; vertical-align: top\">Where You'll Find Me: And<br>Other Stories ...</td>\n",
       "        <td style=\"padding-left: 1em; padding-right: 1em; text-align: center; vertical-align: top\">Ann Beattie</td>\n",
       "        <td style=\"padding-left: 1em; padding-right: 1em; text-align: center; vertical-align: top\">2002</td>\n",
       "        <td style=\"padding-left: 1em; padding-right: 1em; text-align: center; vertical-align: top\">Scribner</td>\n",
       "    </tr>\n",
       "</table>\n",
       "[261684 rows x 5 columns]<br/>Note: Only the head of the SFrame is printed.<br/>You can use print_rows(num_rows=m, num_columns=n) to print more rows and columns.\n",
       "</div>"
      ],
      "text/plain": [
       "Columns:\n",
       "\tbook_id\tstr\n",
       "\ttitle\tstr\n",
       "\tauthor\tstr\n",
       "\tyear\tint\n",
       "\tpublisher\tstr\n",
       "\n",
       "Rows: 261684\n",
       "\n",
       "Data:\n",
       "+------------+-------------------------------+----------------------+------+\n",
       "|  book_id   |             title             |        author        | year |\n",
       "+------------+-------------------------------+----------------------+------+\n",
       "| 195153448  |      Classical Mythology      |  Mark P. O. Morford  | 2002 |\n",
       "|  2005018   |          Clara Callan         | Richard Bruce Wright | 2001 |\n",
       "|  60973129  |      Decision in Normandy     |     Carlo D'Este     | 1991 |\n",
       "| 374157065  | Flu: The Story of the Grea... |   Gina Bari Kolata   | 1999 |\n",
       "| 393045218  |     The Mummies of Urumchi    |   E. J. W. Barber    | 1999 |\n",
       "| 399135782  |     The Kitchen God's Wife    |       Amy Tan        | 1991 |\n",
       "| 425176428  | What If?: The World's Fore... |    Robert Cowley     | 2000 |\n",
       "| 671870432  |        PLEADING GUILTY        |     Scott Turow      | 1993 |\n",
       "| 679425608  | Under the Black Flag: The ... |   David Cordingly    | 1996 |\n",
       "| 074322678X | Where You'll Find Me: And ... |     Ann Beattie      | 2002 |\n",
       "+------------+-------------------------------+----------------------+------+\n",
       "+----------------------------+\n",
       "|         publisher          |\n",
       "+----------------------------+\n",
       "|  Oxford University Press   |\n",
       "|   HarperFlamingo Canada    |\n",
       "|      HarperPerennial       |\n",
       "|    Farrar Straus Giroux    |\n",
       "| W. W. Norton &amp, Company |\n",
       "|      Putnam Pub Group      |\n",
       "|  Berkley Publishing Group  |\n",
       "|         Audioworks         |\n",
       "|        Random House        |\n",
       "|          Scribner          |\n",
       "+----------------------------+\n",
       "[261684 rows x 5 columns]\n",
       "Note: Only the head of the SFrame is printed.\n",
       "You can use print_rows(num_rows=m, num_columns=n) to print more rows and columns."
      ]
     },
     "execution_count": 6,
     "metadata": {},
     "output_type": "execute_result"
    }
   ],
   "source": [
    "book_data"
   ]
  },
  {
   "cell_type": "code",
   "execution_count": 4,
   "metadata": {
    "collapsed": false
   },
   "outputs": [],
   "source": [
    "rating_data = gl.load_sframe(\"./explicit_rating_data/\")"
   ]
  },
  {
   "cell_type": "code",
   "execution_count": 5,
   "metadata": {
    "collapsed": true
   },
   "outputs": [],
   "source": [
    "rating_data = rating_data.unstack([\"book_id\", \"ratings\"], \"book_rating\")"
   ]
  },
  {
   "cell_type": "code",
   "execution_count": 6,
   "metadata": {
    "collapsed": false
   },
   "outputs": [
    {
     "data": {
      "text/html": [
       "<div style=\"max-height:1000px;max-width:1500px;overflow:auto;\"><table frame=\"box\" rules=\"cols\">\n",
       "    <tr>\n",
       "        <th style=\"padding-left: 1em; padding-right: 1em; text-align: center\">user_id</th>\n",
       "        <th style=\"padding-left: 1em; padding-right: 1em; text-align: center\">book_rating</th>\n",
       "    </tr>\n",
       "    <tr>\n",
       "        <td style=\"padding-left: 1em; padding-right: 1em; text-align: center; vertical-align: top\">21855</td>\n",
       "        <td style=\"padding-left: 1em; padding-right: 1em; text-align: center; vertical-align: top\">{'0525464689': 5}</td>\n",
       "    </tr>\n",
       "    <tr>\n",
       "        <td style=\"padding-left: 1em; padding-right: 1em; text-align: center; vertical-align: top\">237313</td>\n",
       "        <td style=\"padding-left: 1em; padding-right: 1em; text-align: center; vertical-align: top\">{'0061031844': 4,<br>'0380775123': 10, ...</td>\n",
       "    </tr>\n",
       "    <tr>\n",
       "        <td style=\"padding-left: 1em; padding-right: 1em; text-align: center; vertical-align: top\">144280</td>\n",
       "        <td style=\"padding-left: 1em; padding-right: 1em; text-align: center; vertical-align: top\">{'0385497466': 9,<br>'0671004549': 8, ...</td>\n",
       "    </tr>\n",
       "    <tr>\n",
       "        <td style=\"padding-left: 1em; padding-right: 1em; text-align: center; vertical-align: top\">219673</td>\n",
       "        <td style=\"padding-left: 1em; padding-right: 1em; text-align: center; vertical-align: top\">{'0440212359': 7}</td>\n",
       "    </tr>\n",
       "    <tr>\n",
       "        <td style=\"padding-left: 1em; padding-right: 1em; text-align: center; vertical-align: top\">26319</td>\n",
       "        <td style=\"padding-left: 1em; padding-right: 1em; text-align: center; vertical-align: top\">{'8881123339': 8,<br>'8880000012': 10, ...</td>\n",
       "    </tr>\n",
       "    <tr>\n",
       "        <td style=\"padding-left: 1em; padding-right: 1em; text-align: center; vertical-align: top\">66110</td>\n",
       "        <td style=\"padding-left: 1em; padding-right: 1em; text-align: center; vertical-align: top\">{'0689831285': 10}</td>\n",
       "    </tr>\n",
       "    <tr>\n",
       "        <td style=\"padding-left: 1em; padding-right: 1em; text-align: center; vertical-align: top\">179149</td>\n",
       "        <td style=\"padding-left: 1em; padding-right: 1em; text-align: center; vertical-align: top\">{'089087333X': 7}</td>\n",
       "    </tr>\n",
       "    <tr>\n",
       "        <td style=\"padding-left: 1em; padding-right: 1em; text-align: center; vertical-align: top\">171625</td>\n",
       "        <td style=\"padding-left: 1em; padding-right: 1em; text-align: center; vertical-align: top\">{'0515121843': 10}</td>\n",
       "    </tr>\n",
       "    <tr>\n",
       "        <td style=\"padding-left: 1em; padding-right: 1em; text-align: center; vertical-align: top\">262565</td>\n",
       "        <td style=\"padding-left: 1em; padding-right: 1em; text-align: center; vertical-align: top\">{'0486406547': 8,<br>'0679734775': 8} ...</td>\n",
       "    </tr>\n",
       "    <tr>\n",
       "        <td style=\"padding-left: 1em; padding-right: 1em; text-align: center; vertical-align: top\">115341</td>\n",
       "        <td style=\"padding-left: 1em; padding-right: 1em; text-align: center; vertical-align: top\">{'0440217512': 8,<br>'0679781587': 4} ...</td>\n",
       "    </tr>\n",
       "</table>\n",
       "[77805 rows x 2 columns]<br/>Note: Only the head of the SFrame is printed.<br/>You can use print_rows(num_rows=m, num_columns=n) to print more rows and columns.\n",
       "</div>"
      ],
      "text/plain": [
       "Columns:\n",
       "\tuser_id\tint\n",
       "\tbook_rating\tdict\n",
       "\n",
       "Rows: 77805\n",
       "\n",
       "Data:\n",
       "+---------+-------------------------------+\n",
       "| user_id |          book_rating          |\n",
       "+---------+-------------------------------+\n",
       "|  21855  |       {'0525464689': 5}       |\n",
       "|  237313 | {'0061031844': 4, '0380775... |\n",
       "|  144280 | {'0385497466': 9, '0671004... |\n",
       "|  219673 |       {'0440212359': 7}       |\n",
       "|  26319  | {'8881123339': 8, '8880000... |\n",
       "|  66110  |       {'0689831285': 10}      |\n",
       "|  179149 |       {'089087333X': 7}       |\n",
       "|  171625 |       {'0515121843': 10}      |\n",
       "|  262565 | {'0486406547': 8, '0679734... |\n",
       "|  115341 | {'0440217512': 8, '0679781... |\n",
       "+---------+-------------------------------+\n",
       "[77805 rows x 2 columns]\n",
       "Note: Only the head of the SFrame is printed.\n",
       "You can use print_rows(num_rows=m, num_columns=n) to print more rows and columns."
      ]
     },
     "execution_count": 6,
     "metadata": {},
     "output_type": "execute_result"
    }
   ],
   "source": [
    "rating_data"
   ]
  },
  {
   "cell_type": "code",
   "execution_count": null,
   "metadata": {
    "collapsed": false
   },
   "outputs": [],
   "source": [
    "\"\"\"\n",
    "#code to convert rating SFrame to a dictionary with user_id as key and another dictionary as value.\n",
    "#Other dictionary contain key:value pair as book_id:rating corresponding to ratings given by a user to resp. books\n",
    "count = 0\n",
    "critics = {}\n",
    "for user in rating_data[\"user_id\"]:\n",
    "    if count % 100 == 0: \n",
    "        print 1,\n",
    "    count += 1\n",
    "    critics[str(user)] = rating_data[rating_data[\"user_id\"] == user][\"book_rating\"][0]\n",
    "     \n",
    "#Computing critics dictionary takes considerable time, therefore it is better to save dictionary after computation\n",
    "#so that threre is no need to compute it again\n",
    "\n",
    "np.save(\"rating_dictionary.npy\", critics)\n",
    "\"\"\""
   ]
  },
  {
   "cell_type": "code",
   "execution_count": 2,
   "metadata": {
    "collapsed": false
   },
   "outputs": [],
   "source": [
    "critics = np.load(\"rating_dictionary.npy\").item()"
   ]
  },
  {
   "cell_type": "code",
   "execution_count": 4,
   "metadata": {
    "collapsed": true
   },
   "outputs": [],
   "source": [
    "# Returns a distance based similarity score based for user1 and user2\n",
    "# Score between (0-1) score 1 means distance zero, higher the score more similar the users are\n",
    "def euclid(ratings, user1, user2):\n",
    "    flag = 0\n",
    "    for item in ratings[user1]:\n",
    "        if item in ratings[user2]:\n",
    "            flag = 1; break\n",
    "            \n",
    "    # if no ratings in common, return 0\n",
    "    if flag == 0: return 0\n",
    "    \n",
    "    # Add up the squares of all differences\n",
    "    sum_squares = sum([pow(ratings[user1][item]-ratings[user2][item],2) \n",
    "                   for item in ratings[user1] if item in ratings[user2]])\n",
    "    \n",
    "    return 1/(1+sum_squares) "
   ]
  },
  {
   "cell_type": "code",
   "execution_count": null,
   "metadata": {
    "collapsed": false
   },
   "outputs": [],
   "source": [
    "critics.items()"
   ]
  },
  {
   "cell_type": "code",
   "execution_count": 5,
   "metadata": {
    "collapsed": true
   },
   "outputs": [],
   "source": [
    "# Returns pearson corelation coefficient for user1 and user2\n",
    "# Score between -1 and 1 more score means more similarity b/w users \n",
    "def pearson(rats, user1, user2):\n",
    "    # List of rated items\n",
    "    shared_items = {}\n",
    "    for item in rats[user1]:\n",
    "        if item in rats[user2]:\n",
    "            shared_items[item] = 1\n",
    "            \n",
    "    n = len(shared_items)\n",
    "    # if no common item, return 0\n",
    "    if n == 0: return 0\n",
    "    \n",
    "    # Add up all the ratings\n",
    "    sum1 = sum([rats[user1][item] for item in shared_items])\n",
    "    sum2 = sum([rats[user2][item] for item in shared_items])\n",
    "    \n",
    "    # Sum up all the squares of ratings\n",
    "    sum1Sq = sum([pow(rats[user1][item],2) for item in shared_items])\n",
    "    sum2Sq = sum([pow(rats[user2][item],2) for item in shared_items])\n",
    "    \n",
    "    # Sum up all the products\n",
    "    prodSum = sum([rats[user1][item]*rats[user2][item] for item in shared_items]) \n",
    "    \n",
    "    # Calculate pearson score\n",
    "    num = prodSum - (sum1*sum2/n)\n",
    "    temp = math.sqrt((sum1Sq - pow(sum1,2)/n) * (sum2Sq - pow(sum2,2)/n))\n",
    "    if temp == 0: return 0\n",
    "    \n",
    "    score = num/temp\n",
    "    return score\n",
    "    "
   ]
  },
  {
   "cell_type": "code",
   "execution_count": 18,
   "metadata": {
    "collapsed": false
   },
   "outputs": [
    {
     "name": "stdout",
     "output_type": "stream",
     "text": [
      "36606 1 0\n",
      "245827 1 1\n",
      "60905 1 2\n",
      "57661 1 3\n",
      "21937 1 4\n",
      "201404 1 5\n"
     ]
    }
   ],
   "source": [
    "count = -1\n",
    "for key in critics.keys():\n",
    "    if count == 5: break\n",
    "    res = euclid(critics, \"36606\", key)\n",
    "    if res != 0:\n",
    "        count += 1\n",
    "        print key, res, count\n",
    "        "
   ]
  },
  {
   "cell_type": "code",
   "execution_count": 89,
   "metadata": {
    "collapsed": false
   },
   "outputs": [],
   "source": [
    "\"\"\"\n",
    "Computing similarity of one user to every other user in dataset\n",
    "This function will return a list of tuples with tuples containing similarity and id of the user\n",
    "NOTICE THAT THE FUNCTION IS CALLED BY USING ONE OF THE ARGUMENT (NOT THE NAME OF FUNCTION ITSELF) \n",
    "ALSO NOTE THAT [PEARSON] IS [NOT] PASSED AS A STRING BUT AS A [FUNCTION] TO METHOD\n",
    "\n",
    "This function returns (n) most similar users where n is the number of movies we want our recommender to recommend,\n",
    "(n) here can be increased to get even better results\n",
    "\"\"\"\n",
    "\n",
    "from operator import itemgetter\n",
    "def getSimilarUsers(ratings, user, n=50, method=pearson):\n",
    "    sim = [(other, method(ratings, user, other)) for other in ratings if other!=user]\n",
    "    \n",
    "    # Sort list so that more similar users appear at top\n",
    "    sim = sorted(sim, key=itemgetter(1), reverse=True)\n",
    "    \n",
    "    # If method used is pearson and first similarity is 0 means no similar user found, use euclid in such case\n",
    "    if method == pearson and sim[0][1] == 0:\n",
    "        sim = similarity_list(ratings, user, n, method=euclid)\n",
    "    \n",
    "    # n denotes number of results to be returned\n",
    "    return sim[0:n]\n",
    "        "
   ]
  },
  {
   "cell_type": "code",
   "execution_count": 90,
   "metadata": {
    "collapsed": false
   },
   "outputs": [],
   "source": [
    "def getRecommendations(ratings, user, n=5, method=pearson):\n",
    "    totals = {}\n",
    "    simSums = {}\n",
    "    # Get a list of n most similar users\n",
    "    similar_users = getSimilarUsers(ratings, user, n*10, method)\n",
    "    \n",
    "    # For every similar user in similar_users rate the movie that user has'nt rated yet\n",
    "    for similar in similar_users:\n",
    "        other = similar[0]\n",
    "        sim = similar[1]\n",
    "        # if similarity less than 0, ignore\n",
    "        if(sim <= 0): continue\n",
    "            \n",
    "        for item in ratings[other]:\n",
    "            # only score movies user hasn't seen yet\n",
    "            if item not in ratings[user] or ratings[user][item] == 0:\n",
    "                # similarity * other user rating\n",
    "                totals.setdefault(item, 0)\n",
    "                totals[item] += ratings[other][item]*sim\n",
    "                # sum of similarities\n",
    "                simSums.setdefault(item, 0)\n",
    "                simSums[item] += sim\n",
    "    \n",
    "    # Normalize predicted ratings and store then as tuples in a list\n",
    "    rankings = [(item, total/simSums[item]) for item,total in totals.items()]\n",
    "    rankings = sorted(rankings, key=itemgetter(1), reverse=True)\n",
    "    return rankings[0:n]\n",
    "    "
   ]
  },
  {
   "cell_type": "code",
   "execution_count": 98,
   "metadata": {
    "collapsed": true
   },
   "outputs": [],
   "source": [
    "def recommend(ratings, user, n=5, method=pearson):\n",
    "    ids_ratings = getRecommendations(ratings, user, n+50, method)\n",
    "    #list storing details of recommended books\n",
    "    list_of_books = []\n",
    "    \n",
    "    # Serach a book via its id in book_data and append all its details along with rating to list_of_books\n",
    "    count = 0\n",
    "    for item in ids_ratings:\n",
    "        if count == n: break\n",
    "        # if book details not present in book_data, skip over to next until (n) books are appended to list\n",
    "        if item[0] not in book_data[\"ISBN\"]: continue\n",
    "            \n",
    "        count += 1\n",
    "        book = book_data[book_data[\"ISBN\"] == item[0]][0]\n",
    "        if item[1] > 10:\n",
    "            book[\"rating\"] = 10\n",
    "        else:\n",
    "            book[\"rating\"] = item[1]\n",
    "        # delete book id from dctionary\n",
    "        del(book[\"ISBN\"])\n",
    "        list_of_books.append(book)\n",
    "        \n",
    "    return list_of_books[0:n]\n",
    "    \n",
    "    "
   ]
  },
  {
   "cell_type": "code",
   "execution_count": 71,
   "metadata": {
    "collapsed": false
   },
   "outputs": [
    {
     "data": {
      "text/plain": [
       "{'Book-Author': 'Mark P. O. Morford',\n",
       " 'Book-Title': 'Classical Mythology',\n",
       " 'ISBN': '195153448',\n",
       " 'Publisher': 'Oxford University Press',\n",
       " 'Year-Of-Publication': 2002}"
      ]
     },
     "execution_count": 71,
     "metadata": {},
     "output_type": "execute_result"
    }
   ],
   "source": [
    "book_data[book_data[\"ISBN\"] == \"195153448\"][0]"
   ]
  },
  {
   "cell_type": "code",
   "execution_count": 99,
   "metadata": {
    "collapsed": false
   },
   "outputs": [],
   "source": [
    "lis = recommend(critics, \"36606\", method=pearson)"
   ]
  },
  {
   "cell_type": "code",
   "execution_count": 100,
   "metadata": {
    "collapsed": false
   },
   "outputs": [
    {
     "data": {
      "text/plain": [
       "[{'Book-Author': 'Chaim Potok',\n",
       "  'Book-Title': 'My Name Is Asher Lev',\n",
       "  'Publisher': 'Anchor Books/Doubleday',\n",
       "  'Year-Of-Publication': 2003,\n",
       "  'rating': 10},\n",
       " {'Book-Author': 'James Mellon',\n",
       "  'Book-Title': 'Bullwhip Days: The Slaves Remember',\n",
       "  'Publisher': 'Pub Group West',\n",
       "  'Year-Of-Publication': 1988,\n",
       "  'rating': 10},\n",
       " {'Book-Author': 'Pearl S. Buck',\n",
       "  'Book-Title': 'Pavilion of Women (Oriental Novels of Pearl S. Buck)',\n",
       "  'Publisher': 'Alliance House Inc',\n",
       "  'Year-Of-Publication': 1990,\n",
       "  'rating': 10},\n",
       " {'Book-Author': 'Robin. Morgan',\n",
       "  'Book-Title': 'Going Too Far: The Personal Chronicle of a Feminist',\n",
       "  'Publisher': 'Random House Inc',\n",
       "  'Year-Of-Publication': 1978,\n",
       "  'rating': 10},\n",
       " {'Book-Author': 'Janette Oke',\n",
       "  'Book-Title': 'Return to Harmony',\n",
       "  'Publisher': 'Bethany House Publishers',\n",
       "  'Year-Of-Publication': 1996,\n",
       "  'rating': 10}]"
      ]
     },
     "execution_count": 100,
     "metadata": {},
     "output_type": "execute_result"
    }
   ],
   "source": [
    "lis"
   ]
  },
  {
   "cell_type": "code",
   "execution_count": null,
   "metadata": {
    "collapsed": true
   },
   "outputs": [],
   "source": []
  }
 ],
 "metadata": {
  "kernelspec": {
   "display_name": "Python [alt-env]",
   "language": "python",
   "name": "Python [alt-env]"
  },
  "language_info": {
   "codemirror_mode": {
    "name": "ipython",
    "version": 2
   },
   "file_extension": ".py",
   "mimetype": "text/x-python",
   "name": "python",
   "nbconvert_exporter": "python",
   "pygments_lexer": "ipython2",
   "version": "2.7.12"
  }
 },
 "nbformat": 4,
 "nbformat_minor": 0
}
