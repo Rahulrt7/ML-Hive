{
 "cells": [
  {
   "cell_type": "markdown",
   "metadata": {},
   "source": [
    "# Computing cooccurrence matrix"
   ]
  },
  {
   "cell_type": "code",
   "execution_count": 5,
   "metadata": {
    "collapsed": true
   },
   "outputs": [],
   "source": [
    "import graphlab as gl\n",
    "import numpy as np"
   ]
  },
  {
   "cell_type": "code",
   "execution_count": 8,
   "metadata": {
    "collapsed": false
   },
   "outputs": [
    {
     "name": "stderr",
     "output_type": "stream",
     "text": [
      "[INFO] graphlab.cython.cy_server: GraphLab Create v2.0.1 started. Logging: /tmp/graphlab_server_1470115028.log\n"
     ]
    },
    {
     "name": "stdout",
     "output_type": "stream",
     "text": [
      "This non-commercial license of GraphLab Create for academic use is assigned to rahultyagirt7@outlook.com and will expire on June 03, 2017.\n"
     ]
    }
   ],
   "source": [
    "explicit_data = gl.load_sframe(\"explicit_rating_data\")"
   ]
  },
  {
   "cell_type": "code",
   "execution_count": 9,
   "metadata": {
    "collapsed": false
   },
   "outputs": [],
   "source": [
    "explicit_data = explicit_data.unstack([\"user_id\", \"ratings\"], \"user/rating\")"
   ]
  },
  {
   "cell_type": "code",
   "execution_count": 10,
   "metadata": {
    "collapsed": false
   },
   "outputs": [
    {
     "data": {
      "text/html": [
       "<div style=\"max-height:1000px;max-width:1500px;overflow:auto;\"><table frame=\"box\" rules=\"cols\">\n",
       "    <tr>\n",
       "        <th style=\"padding-left: 1em; padding-right: 1em; text-align: center\">book_id</th>\n",
       "        <th style=\"padding-left: 1em; padding-right: 1em; text-align: center\">user/rating</th>\n",
       "    </tr>\n",
       "    <tr>\n",
       "        <td style=\"padding-left: 1em; padding-right: 1em; text-align: center; vertical-align: top\">0445200456</td>\n",
       "        <td style=\"padding-left: 1em; padding-right: 1em; text-align: center; vertical-align: top\">{225968: 8, 41589: 8,<br>165758: 5, 252695: 8} ...</td>\n",
       "    </tr>\n",
       "    <tr>\n",
       "        <td style=\"padding-left: 1em; padding-right: 1em; text-align: center; vertical-align: top\">1863735313</td>\n",
       "        <td style=\"padding-left: 1em; padding-right: 1em; text-align: center; vertical-align: top\">{225232: 8}</td>\n",
       "    </tr>\n",
       "    <tr>\n",
       "        <td style=\"padding-left: 1em; padding-right: 1em; text-align: center; vertical-align: top\">0966828917</td>\n",
       "        <td style=\"padding-left: 1em; padding-right: 1em; text-align: center; vertical-align: top\">{135778: 8}</td>\n",
       "    </tr>\n",
       "    <tr>\n",
       "        <td style=\"padding-left: 1em; padding-right: 1em; text-align: center; vertical-align: top\">0142180106</td>\n",
       "        <td style=\"padding-left: 1em; padding-right: 1em; text-align: center; vertical-align: top\">{208619: 10, 19981: 8}</td>\n",
       "    </tr>\n",
       "    <tr>\n",
       "        <td style=\"padding-left: 1em; padding-right: 1em; text-align: center; vertical-align: top\">0918668034</td>\n",
       "        <td style=\"padding-left: 1em; padding-right: 1em; text-align: center; vertical-align: top\">{123094: 7}</td>\n",
       "    </tr>\n",
       "    <tr>\n",
       "        <td style=\"padding-left: 1em; padding-right: 1em; text-align: center; vertical-align: top\">9722214683</td>\n",
       "        <td style=\"padding-left: 1em; padding-right: 1em; text-align: center; vertical-align: top\">{78973: 7}</td>\n",
       "    </tr>\n",
       "    <tr>\n",
       "        <td style=\"padding-left: 1em; padding-right: 1em; text-align: center; vertical-align: top\">0345274563</td>\n",
       "        <td style=\"padding-left: 1em; padding-right: 1em; text-align: center; vertical-align: top\">{81560: 8, 7346: 9,<br>239748: 6, 83685: 7, ...</td>\n",
       "    </tr>\n",
       "    <tr>\n",
       "        <td style=\"padding-left: 1em; padding-right: 1em; text-align: center; vertical-align: top\">1885843070</td>\n",
       "        <td style=\"padding-left: 1em; padding-right: 1em; text-align: center; vertical-align: top\">{194600: 8}</td>\n",
       "    </tr>\n",
       "    <tr>\n",
       "        <td style=\"padding-left: 1em; padding-right: 1em; text-align: center; vertical-align: top\">0060952938</td>\n",
       "        <td style=\"padding-left: 1em; padding-right: 1em; text-align: center; vertical-align: top\">{59656: 8, 32773: 6}</td>\n",
       "    </tr>\n",
       "    <tr>\n",
       "        <td style=\"padding-left: 1em; padding-right: 1em; text-align: center; vertical-align: top\">1573228516</td>\n",
       "        <td style=\"padding-left: 1em; padding-right: 1em; text-align: center; vertical-align: top\">{30257: 9, 260183: 6,<br>263460: 10, 154543: 5} ...</td>\n",
       "    </tr>\n",
       "</table>\n",
       "[185973 rows x 2 columns]<br/>Note: Only the head of the SFrame is printed.<br/>You can use print_rows(num_rows=m, num_columns=n) to print more rows and columns.\n",
       "</div>"
      ],
      "text/plain": [
       "Columns:\n",
       "\tbook_id\tstr\n",
       "\tuser/rating\tdict\n",
       "\n",
       "Rows: 185973\n",
       "\n",
       "Data:\n",
       "+------------+-------------------------------+\n",
       "|  book_id   |          user/rating          |\n",
       "+------------+-------------------------------+\n",
       "| 0445200456 | {225968: 8, 41589: 8, 1657... |\n",
       "| 1863735313 |          {225232: 8}          |\n",
       "| 0966828917 |          {135778: 8}          |\n",
       "| 0142180106 |     {208619: 10, 19981: 8}    |\n",
       "| 0918668034 |          {123094: 7}          |\n",
       "| 9722214683 |           {78973: 7}          |\n",
       "| 0345274563 | {81560: 8, 7346: 9, 239748... |\n",
       "| 1885843070 |          {194600: 8}          |\n",
       "| 0060952938 |      {59656: 8, 32773: 6}     |\n",
       "| 1573228516 | {30257: 9, 260183: 6, 2634... |\n",
       "+------------+-------------------------------+\n",
       "[185973 rows x 2 columns]\n",
       "Note: Only the head of the SFrame is printed.\n",
       "You can use print_rows(num_rows=m, num_columns=n) to print more rows and columns."
      ]
     },
     "execution_count": 10,
     "metadata": {},
     "output_type": "execute_result"
    }
   ],
   "source": [
    "explicit_data"
   ]
  },
  {
   "cell_type": "code",
   "execution_count": 13,
   "metadata": {
    "collapsed": false
   },
   "outputs": [
    {
     "data": {
      "text/html": [
       "<div style=\"max-height:1000px;max-width:1500px;overflow:auto;\"><table frame=\"box\" rules=\"cols\">\n",
       "    <tr>\n",
       "        <th style=\"padding-left: 1em; padding-right: 1em; text-align: center\">book_id</th>\n",
       "        <th style=\"padding-left: 1em; padding-right: 1em; text-align: center\">user/rating</th>\n",
       "    </tr>\n",
       "    <tr>\n",
       "        <td style=\"padding-left: 1em; padding-right: 1em; text-align: center; vertical-align: top\">0192824392</td>\n",
       "        <td style=\"padding-left: 1em; padding-right: 1em; text-align: center; vertical-align: top\">{227422: 7}</td>\n",
       "    </tr>\n",
       "    <tr>\n",
       "        <td style=\"padding-left: 1em; padding-right: 1em; text-align: center; vertical-align: top\">0199102058</td>\n",
       "        <td style=\"padding-left: 1em; padding-right: 1em; text-align: center; vertical-align: top\">{140758: 10}</td>\n",
       "    </tr>\n",
       "    <tr>\n",
       "        <td style=\"padding-left: 1em; padding-right: 1em; text-align: center; vertical-align: top\">0030595746</td>\n",
       "        <td style=\"padding-left: 1em; padding-right: 1em; text-align: center; vertical-align: top\">{108997: 8}</td>\n",
       "    </tr>\n",
       "    <tr>\n",
       "        <td style=\"padding-left: 1em; padding-right: 1em; text-align: center; vertical-align: top\">8426430294</td>\n",
       "        <td style=\"padding-left: 1em; padding-right: 1em; text-align: center; vertical-align: top\">{217740: 4}</td>\n",
       "    </tr>\n",
       "    <tr>\n",
       "        <td style=\"padding-left: 1em; padding-right: 1em; text-align: center; vertical-align: top\">0712666745</td>\n",
       "        <td style=\"padding-left: 1em; padding-right: 1em; text-align: center; vertical-align: top\">{256688: 7}</td>\n",
       "    </tr>\n",
       "    <tr>\n",
       "        <td style=\"padding-left: 1em; padding-right: 1em; text-align: center; vertical-align: top\">3442120772</td>\n",
       "        <td style=\"padding-left: 1em; padding-right: 1em; text-align: center; vertical-align: top\">{57435: 10, 167166: 10}</td>\n",
       "    </tr>\n",
       "    <tr>\n",
       "        <td style=\"padding-left: 1em; padding-right: 1em; text-align: center; vertical-align: top\">2130490921</td>\n",
       "        <td style=\"padding-left: 1em; padding-right: 1em; text-align: center; vertical-align: top\">{139480: 6}</td>\n",
       "    </tr>\n",
       "    <tr>\n",
       "        <td style=\"padding-left: 1em; padding-right: 1em; text-align: center; vertical-align: top\">2744147737</td>\n",
       "        <td style=\"padding-left: 1em; padding-right: 1em; text-align: center; vertical-align: top\">{192068: 1}</td>\n",
       "    </tr>\n",
       "    <tr>\n",
       "        <td style=\"padding-left: 1em; padding-right: 1em; text-align: center; vertical-align: top\">0465050522</td>\n",
       "        <td style=\"padding-left: 1em; padding-right: 1em; text-align: center; vertical-align: top\">{238890: 10, 43500: 8}</td>\n",
       "    </tr>\n",
       "    <tr>\n",
       "        <td style=\"padding-left: 1em; padding-right: 1em; text-align: center; vertical-align: top\">0897211499</td>\n",
       "        <td style=\"padding-left: 1em; padding-right: 1em; text-align: center; vertical-align: top\">{180802: 8}</td>\n",
       "    </tr>\n",
       "</table>\n",
       "[10 rows x 2 columns]<br/>\n",
       "</div>"
      ],
      "text/plain": [
       "Columns:\n",
       "\tbook_id\tstr\n",
       "\tuser/rating\tdict\n",
       "\n",
       "Rows: 10\n",
       "\n",
       "Data:\n",
       "+------------+-------------------------+\n",
       "|  book_id   |       user/rating       |\n",
       "+------------+-------------------------+\n",
       "| 0192824392 |       {227422: 7}       |\n",
       "| 0199102058 |       {140758: 10}      |\n",
       "| 0030595746 |       {108997: 8}       |\n",
       "| 8426430294 |       {217740: 4}       |\n",
       "| 0712666745 |       {256688: 7}       |\n",
       "| 3442120772 | {57435: 10, 167166: 10} |\n",
       "| 2130490921 |       {139480: 6}       |\n",
       "| 2744147737 |       {192068: 1}       |\n",
       "| 0465050522 |  {238890: 10, 43500: 8} |\n",
       "| 0897211499 |       {180802: 8}       |\n",
       "+------------+-------------------------+\n",
       "[10 rows x 2 columns]"
      ]
     },
     "execution_count": 13,
     "metadata": {},
     "output_type": "execute_result"
    }
   ],
   "source": [
    "big_data, small_data = explicit_data.random_split(.95, seed=0)\n",
    "small_data.head(10)"
   ]
  },
  {
   "cell_type": "code",
   "execution_count": 62,
   "metadata": {
    "collapsed": false
   },
   "outputs": [],
   "source": [
    "# This dictionary will store count of total users that liked  value for each book\n",
    "normalize_dict = {}\n",
    "for book in small_data:\n",
    "    res = sum([1 for rate in book[\"user/rating\"].values() if rate > 5])\n",
    "    normalize_dict.setdefault(book[\"book_id\"], 0)\n",
    "    normalize_dict[book[\"book_id\"]] = res\n",
    "        "
   ]
  },
  {
   "cell_type": "code",
   "execution_count": 75,
   "metadata": {
    "collapsed": false
   },
   "outputs": [],
   "source": [
    "\"\"\"\n",
    "Cooccurrence matrix bulit but TOO SLOW... It took almost 1 hour to compute matrix on 5% of original data \n",
    "\n",
    "Dictionary is built with key as book1 id and value as another dictionary conataing book2 id as key and common \n",
    "readers b/w books as value\n",
    "\"\"\"\n",
    "master_dict = {}\n",
    "for book1 in small_data:\n",
    "    # flag used to skip master_dict to add empty temp_dict(with no common users)\n",
    "    flag1 = 0\n",
    "    temp_dict= {}\n",
    "    \n",
    "    for book2 in small_data:\n",
    "        if book1 == book2: continue\n",
    "        # To assert, at least one user is found in common b/w book1 and book2\n",
    "        flag2 = 0\n",
    "            \n",
    "        # Check if user rated both the movies, if yes increase the count for these two movies\n",
    "        for user in book2[\"user/rating\"].keys():\n",
    "            # users that likes book1 OR book2\n",
    "            book1_or_book2 = normalize_dict[book1[\"book_id\"]] + normalize_dict[book2[\"book_id\"]]\n",
    "            \n",
    "            if user in book1[\"user/rating\"].keys():\n",
    "                #if rating <= 5 skip the book(user don't like the book)\n",
    "                if book1[\"user/rating\"][user] <= 5: continue \n",
    "                        \n",
    "                flag1 = 1\n",
    "                if book2[\"book_id\"] not in temp_dict:\n",
    "                    temp_dict.setdefault(book2[\"book_id\"], 0)\n",
    "                temp_dict[book2[\"book_id\"]] += 1\n",
    "                flag2 = 1\n",
    "                \n",
    "        # Normalizing values of common users through JACCARD SIMILARITY\n",
    "        if flag2 == 1: temp_dict[book2[\"book_id\"]] /= float(book1_or_book2)\n",
    "    \n",
    "    if flag1 == 1:\n",
    "        master_dict[book1[\"book_id\"]] = temp_dict"
   ]
  },
  {
   "cell_type": "code",
   "execution_count": 23,
   "metadata": {
    "collapsed": false
   },
   "outputs": [
    {
     "data": {
      "text/plain": [
       "[7]"
      ]
     },
     "execution_count": 23,
     "metadata": {},
     "output_type": "execute_result"
    }
   ],
   "source": [
    "small_data[0][\"user/rating\"].values()"
   ]
  },
  {
   "cell_type": "code",
   "execution_count": 18,
   "metadata": {
    "collapsed": false
   },
   "outputs": [],
   "source": [
    "np.save(\"cooccurrence dict.npy\", master_dict)"
   ]
  },
  {
   "cell_type": "markdown",
   "metadata": {},
   "source": [
    "# Recommending books via cooccurence matrix"
   ]
  },
  {
   "cell_type": "code",
   "execution_count": 1,
   "metadata": {
    "collapsed": false
   },
   "outputs": [
    {
     "name": "stderr",
     "output_type": "stream",
     "text": [
      "A newer version of GraphLab Create (v2.1) is available! Your current version is v2.0.1.\n",
      "You can use pip to upgrade the graphlab-create package. For more information see https://turi.com/products/create/upgrade.\n"
     ]
    }
   ],
   "source": [
    "import graphlab as gl\n",
    "import numpy as np"
   ]
  },
  {
   "cell_type": "code",
   "execution_count": 2,
   "metadata": {
    "collapsed": false
   },
   "outputs": [],
   "source": [
    "co_dict = np.load(\"cooccurrence dict.npy\").item()"
   ]
  },
  {
   "cell_type": "code",
   "execution_count": 4,
   "metadata": {
    "collapsed": false
   },
   "outputs": [],
   "source": [
    "key_list = co_dict.keys() \n",
    "value_list = co_dict.values()"
   ]
  },
  {
   "cell_type": "code",
   "execution_count": 5,
   "metadata": {
    "collapsed": false
   },
   "outputs": [
    {
     "name": "stdout",
     "output_type": "stream",
     "text": [
      "This non-commercial license of GraphLab Create for academic use is assigned to rahultyagirt7@outlook.com and will expire on June 03, 2017.\n"
     ]
    },
    {
     "name": "stderr",
     "output_type": "stream",
     "text": [
      "[INFO] graphlab.cython.cy_server: GraphLab Create v2.0.1 started. Logging: /tmp/graphlab_server_1470116190.log\n"
     ]
    }
   ],
   "source": [
    "arr1 = gl.SArray(key_list)\n",
    "arr2 = gl.SArray(value_list)"
   ]
  },
  {
   "cell_type": "code",
   "execution_count": 15,
   "metadata": {
    "collapsed": true
   },
   "outputs": [],
   "source": [
    "matrix = gl.SFrame({\"book1\": arr1, \"common\": arr2})"
   ]
  },
  {
   "cell_type": "code",
   "execution_count": 16,
   "metadata": {
    "collapsed": false
   },
   "outputs": [
    {
     "data": {
      "text/html": [
       "<div style=\"max-height:1000px;max-width:1500px;overflow:auto;\"><table frame=\"box\" rules=\"cols\">\n",
       "    <tr>\n",
       "        <th style=\"padding-left: 1em; padding-right: 1em; text-align: center\">book1</th>\n",
       "        <th style=\"padding-left: 1em; padding-right: 1em; text-align: center\">common</th>\n",
       "    </tr>\n",
       "    <tr>\n",
       "        <td style=\"padding-left: 1em; padding-right: 1em; text-align: center; vertical-align: top\">0756401836</td>\n",
       "        <td style=\"padding-left: 1em; padding-right: 1em; text-align: center; vertical-align: top\">{'0843953055': 0.25,<br>'0440241871': 0.25, ...</td>\n",
       "    </tr>\n",
       "    <tr>\n",
       "        <td style=\"padding-left: 1em; padding-right: 1em; text-align: center; vertical-align: top\">8804522224</td>\n",
       "        <td style=\"padding-left: 1em; padding-right: 1em; text-align: center; vertical-align: top\">{'0891909540':<br>0.3333333333333333, ...</td>\n",
       "    </tr>\n",
       "    <tr>\n",
       "        <td style=\"padding-left: 1em; padding-right: 1em; text-align: center; vertical-align: top\">0205131999</td>\n",
       "        <td style=\"padding-left: 1em; padding-right: 1em; text-align: center; vertical-align: top\">{'0888995903': 0.5}</td>\n",
       "    </tr>\n",
       "</table>\n",
       "[3 rows x 2 columns]<br/>\n",
       "</div>"
      ],
      "text/plain": [
       "Columns:\n",
       "\tbook1\tstr\n",
       "\tcommon\tdict\n",
       "\n",
       "Rows: 3\n",
       "\n",
       "Data:\n",
       "+------------+-------------------------------+\n",
       "|   book1    |             common            |\n",
       "+------------+-------------------------------+\n",
       "| 0756401836 | {'0843953055': 0.25, '0440... |\n",
       "| 8804522224 | {'0891909540': 0.333333333... |\n",
       "| 0205131999 |      {'0888995903': 0.5}      |\n",
       "+------------+-------------------------------+\n",
       "[3 rows x 2 columns]"
      ]
     },
     "execution_count": 16,
     "metadata": {},
     "output_type": "execute_result"
    }
   ],
   "source": [
    "matrix.head(3)"
   ]
  },
  {
   "cell_type": "code",
   "execution_count": 17,
   "metadata": {
    "collapsed": false
   },
   "outputs": [],
   "source": [
    "matrix = matrix.stack(\"common\", new_column_name=[\"book2\", \"similarity\"])"
   ]
  },
  {
   "cell_type": "code",
   "execution_count": 20,
   "metadata": {
    "collapsed": true
   },
   "outputs": [],
   "source": [
    "rating_data = gl.load_sframe(\"explicit_rating_data/\")"
   ]
  },
  {
   "cell_type": "code",
   "execution_count": 23,
   "metadata": {
    "collapsed": false
   },
   "outputs": [],
   "source": [
    "rating_data = rating_data[rating_data[\"ratings\"] > 5]\n",
    "rating_data.materialize()"
   ]
  },
  {
   "cell_type": "code",
   "execution_count": 24,
   "metadata": {
    "collapsed": false
   },
   "outputs": [
    {
     "data": {
      "text/html": [
       "<div style=\"max-height:1000px;max-width:1500px;overflow:auto;\"><table frame=\"box\" rules=\"cols\">\n",
       "    <tr>\n",
       "        <th style=\"padding-left: 1em; padding-right: 1em; text-align: center\">user_id</th>\n",
       "        <th style=\"padding-left: 1em; padding-right: 1em; text-align: center\">book_id</th>\n",
       "        <th style=\"padding-left: 1em; padding-right: 1em; text-align: center\">ratings</th>\n",
       "    </tr>\n",
       "    <tr>\n",
       "        <td style=\"padding-left: 1em; padding-right: 1em; text-align: center; vertical-align: top\">276729</td>\n",
       "        <td style=\"padding-left: 1em; padding-right: 1em; text-align: center; vertical-align: top\">0521795028</td>\n",
       "        <td style=\"padding-left: 1em; padding-right: 1em; text-align: center; vertical-align: top\">6</td>\n",
       "    </tr>\n",
       "    <tr>\n",
       "        <td style=\"padding-left: 1em; padding-right: 1em; text-align: center; vertical-align: top\">276736</td>\n",
       "        <td style=\"padding-left: 1em; padding-right: 1em; text-align: center; vertical-align: top\">3257224281</td>\n",
       "        <td style=\"padding-left: 1em; padding-right: 1em; text-align: center; vertical-align: top\">8</td>\n",
       "    </tr>\n",
       "    <tr>\n",
       "        <td style=\"padding-left: 1em; padding-right: 1em; text-align: center; vertical-align: top\">276737</td>\n",
       "        <td style=\"padding-left: 1em; padding-right: 1em; text-align: center; vertical-align: top\">0600570967</td>\n",
       "        <td style=\"padding-left: 1em; padding-right: 1em; text-align: center; vertical-align: top\">6</td>\n",
       "    </tr>\n",
       "    <tr>\n",
       "        <td style=\"padding-left: 1em; padding-right: 1em; text-align: center; vertical-align: top\">276744</td>\n",
       "        <td style=\"padding-left: 1em; padding-right: 1em; text-align: center; vertical-align: top\">038550120X</td>\n",
       "        <td style=\"padding-left: 1em; padding-right: 1em; text-align: center; vertical-align: top\">7</td>\n",
       "    </tr>\n",
       "    <tr>\n",
       "        <td style=\"padding-left: 1em; padding-right: 1em; text-align: center; vertical-align: top\">276745</td>\n",
       "        <td style=\"padding-left: 1em; padding-right: 1em; text-align: center; vertical-align: top\">342310538</td>\n",
       "        <td style=\"padding-left: 1em; padding-right: 1em; text-align: center; vertical-align: top\">10</td>\n",
       "    </tr>\n",
       "    <tr>\n",
       "        <td style=\"padding-left: 1em; padding-right: 1em; text-align: center; vertical-align: top\">276747</td>\n",
       "        <td style=\"padding-left: 1em; padding-right: 1em; text-align: center; vertical-align: top\">0060517794</td>\n",
       "        <td style=\"padding-left: 1em; padding-right: 1em; text-align: center; vertical-align: top\">9</td>\n",
       "    </tr>\n",
       "    <tr>\n",
       "        <td style=\"padding-left: 1em; padding-right: 1em; text-align: center; vertical-align: top\">276747</td>\n",
       "        <td style=\"padding-left: 1em; padding-right: 1em; text-align: center; vertical-align: top\">0671537458</td>\n",
       "        <td style=\"padding-left: 1em; padding-right: 1em; text-align: center; vertical-align: top\">9</td>\n",
       "    </tr>\n",
       "    <tr>\n",
       "        <td style=\"padding-left: 1em; padding-right: 1em; text-align: center; vertical-align: top\">276747</td>\n",
       "        <td style=\"padding-left: 1em; padding-right: 1em; text-align: center; vertical-align: top\">0679776818</td>\n",
       "        <td style=\"padding-left: 1em; padding-right: 1em; text-align: center; vertical-align: top\">8</td>\n",
       "    </tr>\n",
       "    <tr>\n",
       "        <td style=\"padding-left: 1em; padding-right: 1em; text-align: center; vertical-align: top\">276747</td>\n",
       "        <td style=\"padding-left: 1em; padding-right: 1em; text-align: center; vertical-align: top\">0943066433</td>\n",
       "        <td style=\"padding-left: 1em; padding-right: 1em; text-align: center; vertical-align: top\">7</td>\n",
       "    </tr>\n",
       "    <tr>\n",
       "        <td style=\"padding-left: 1em; padding-right: 1em; text-align: center; vertical-align: top\">276747</td>\n",
       "        <td style=\"padding-left: 1em; padding-right: 1em; text-align: center; vertical-align: top\">1885408226</td>\n",
       "        <td style=\"padding-left: 1em; padding-right: 1em; text-align: center; vertical-align: top\">7</td>\n",
       "    </tr>\n",
       "</table>\n",
       "[363268 rows x 3 columns]<br/>Note: Only the head of the SFrame is printed.<br/>You can use print_rows(num_rows=m, num_columns=n) to print more rows and columns.\n",
       "</div>"
      ],
      "text/plain": [
       "Columns:\n",
       "\tuser_id\tint\n",
       "\tbook_id\tstr\n",
       "\tratings\tint\n",
       "\n",
       "Rows: 363268\n",
       "\n",
       "Data:\n",
       "+---------+------------+---------+\n",
       "| user_id |  book_id   | ratings |\n",
       "+---------+------------+---------+\n",
       "|  276729 | 0521795028 |    6    |\n",
       "|  276736 | 3257224281 |    8    |\n",
       "|  276737 | 0600570967 |    6    |\n",
       "|  276744 | 038550120X |    7    |\n",
       "|  276745 | 342310538  |    10   |\n",
       "|  276747 | 0060517794 |    9    |\n",
       "|  276747 | 0671537458 |    9    |\n",
       "|  276747 | 0679776818 |    8    |\n",
       "|  276747 | 0943066433 |    7    |\n",
       "|  276747 | 1885408226 |    7    |\n",
       "+---------+------------+---------+\n",
       "[363268 rows x 3 columns]\n",
       "Note: Only the head of the SFrame is printed.\n",
       "You can use print_rows(num_rows=m, num_columns=n) to print more rows and columns."
      ]
     },
     "execution_count": 24,
     "metadata": {},
     "output_type": "execute_result"
    }
   ],
   "source": [
    "rating_data"
   ]
  },
  {
   "cell_type": "code",
   "execution_count": 29,
   "metadata": {
    "collapsed": true
   },
   "outputs": [],
   "source": [
    "unique_user = rating_data[rating_data[\"user_id\"] == 276747]\n",
    "unique_user.materialize()"
   ]
  },
  {
   "cell_type": "code",
   "execution_count": 30,
   "metadata": {
    "collapsed": false
   },
   "outputs": [
    {
     "data": {
      "text/html": [
       "<div style=\"max-height:1000px;max-width:1500px;overflow:auto;\"><table frame=\"box\" rules=\"cols\">\n",
       "    <tr>\n",
       "        <th style=\"padding-left: 1em; padding-right: 1em; text-align: center\">user_id</th>\n",
       "        <th style=\"padding-left: 1em; padding-right: 1em; text-align: center\">book_id</th>\n",
       "        <th style=\"padding-left: 1em; padding-right: 1em; text-align: center\">ratings</th>\n",
       "    </tr>\n",
       "    <tr>\n",
       "        <td style=\"padding-left: 1em; padding-right: 1em; text-align: center; vertical-align: top\">276747</td>\n",
       "        <td style=\"padding-left: 1em; padding-right: 1em; text-align: center; vertical-align: top\">0060517794</td>\n",
       "        <td style=\"padding-left: 1em; padding-right: 1em; text-align: center; vertical-align: top\">9</td>\n",
       "    </tr>\n",
       "    <tr>\n",
       "        <td style=\"padding-left: 1em; padding-right: 1em; text-align: center; vertical-align: top\">276747</td>\n",
       "        <td style=\"padding-left: 1em; padding-right: 1em; text-align: center; vertical-align: top\">0671537458</td>\n",
       "        <td style=\"padding-left: 1em; padding-right: 1em; text-align: center; vertical-align: top\">9</td>\n",
       "    </tr>\n",
       "    <tr>\n",
       "        <td style=\"padding-left: 1em; padding-right: 1em; text-align: center; vertical-align: top\">276747</td>\n",
       "        <td style=\"padding-left: 1em; padding-right: 1em; text-align: center; vertical-align: top\">0679776818</td>\n",
       "        <td style=\"padding-left: 1em; padding-right: 1em; text-align: center; vertical-align: top\">8</td>\n",
       "    </tr>\n",
       "    <tr>\n",
       "        <td style=\"padding-left: 1em; padding-right: 1em; text-align: center; vertical-align: top\">276747</td>\n",
       "        <td style=\"padding-left: 1em; padding-right: 1em; text-align: center; vertical-align: top\">0943066433</td>\n",
       "        <td style=\"padding-left: 1em; padding-right: 1em; text-align: center; vertical-align: top\">7</td>\n",
       "    </tr>\n",
       "    <tr>\n",
       "        <td style=\"padding-left: 1em; padding-right: 1em; text-align: center; vertical-align: top\">276747</td>\n",
       "        <td style=\"padding-left: 1em; padding-right: 1em; text-align: center; vertical-align: top\">1885408226</td>\n",
       "        <td style=\"padding-left: 1em; padding-right: 1em; text-align: center; vertical-align: top\">7</td>\n",
       "    </tr>\n",
       "</table>\n",
       "[5 rows x 3 columns]<br/>\n",
       "</div>"
      ],
      "text/plain": [
       "Columns:\n",
       "\tuser_id\tint\n",
       "\tbook_id\tstr\n",
       "\tratings\tint\n",
       "\n",
       "Rows: 5\n",
       "\n",
       "Data:\n",
       "+---------+------------+---------+\n",
       "| user_id |  book_id   | ratings |\n",
       "+---------+------------+---------+\n",
       "|  276747 | 0060517794 |    9    |\n",
       "|  276747 | 0671537458 |    9    |\n",
       "|  276747 | 0679776818 |    8    |\n",
       "|  276747 | 0943066433 |    7    |\n",
       "|  276747 | 1885408226 |    7    |\n",
       "+---------+------------+---------+\n",
       "[5 rows x 3 columns]"
      ]
     },
     "execution_count": 30,
     "metadata": {},
     "output_type": "execute_result"
    }
   ],
   "source": [
    "unique_user"
   ]
  },
  {
   "cell_type": "code",
   "execution_count": 31,
   "metadata": {
    "collapsed": true
   },
   "outputs": [],
   "source": [
    "bought_books = list(unique_user[\"book_id\"])"
   ]
  },
  {
   "cell_type": "code",
   "execution_count": 32,
   "metadata": {
    "collapsed": false
   },
   "outputs": [
    {
     "data": {
      "text/plain": [
       "['0060517794', '0671537458', '0679776818', '0943066433', '1885408226']"
      ]
     },
     "execution_count": 32,
     "metadata": {},
     "output_type": "execute_result"
    }
   ],
   "source": [
    "bought_books"
   ]
  },
  {
   "cell_type": "markdown",
   "metadata": {},
   "source": [
    "## Idea of unique user from rating data failed, see if rating dictionary works"
   ]
  },
  {
   "cell_type": "code",
   "execution_count": 3,
   "metadata": {
    "collapsed": false
   },
   "outputs": [],
   "source": [
    "import graphlab as gl\n",
    "import numpy as np\n",
    "from operator import itemgetter"
   ]
  },
  {
   "cell_type": "code",
   "execution_count": 4,
   "metadata": {
    "collapsed": true
   },
   "outputs": [],
   "source": [
    "rating = np.load(\"rating_dictionary.npy\").item()\n",
    "cooccur = np.load(\"cooccurrence dict.npy\").item()"
   ]
  },
  {
   "cell_type": "code",
   "execution_count": 15,
   "metadata": {
    "collapsed": false
   },
   "outputs": [],
   "source": [
    "\"\"\"\n",
    "Using co_dict rather than matrix SFrame (constructed using co_dict), this will make computation much more efficient \n",
    "score list store keys in the corpus and scores on the basis for reading history of user\n",
    "\n",
    "Our cooccurrence dictionary is really sparse (5% of original data) hence we are only able to find recommendation\n",
    "just for 15 users out of 100 users(for which we tried to compute recommendation).\n",
    "To increase the number of users which get recommendations, cooccur dictionary must be computed for other 95% data\n",
    "\n",
    "This function will loops over all the users present in rating dictionary and will SKIP those user for which no \n",
    "similar movies are found.\n",
    "\n",
    "n-> denotes the maximum number of books to be recommended to a user\n",
    "\"\"\"\n",
    "def co_recommender(rating_dict, co_dict, userId=None, n=5):\n",
    "    recom_books = {}\n",
    "    \n",
    "    # Rating dictionary stores user as keys and another dictionary as values\n",
    "    # containing (book/corresponding ratings give by user) as key/value pair\n",
    "    if userId in rating_dict.keys():\n",
    "        user_rating = rating_dict[userId]\n",
    "        score = []\n",
    "        flag = 0\n",
    "    \n",
    "        # co_dict contains book_ids as keys and another dict as values containing\n",
    "        # book_ids and normalized similarity between those books(as key/value pair)\n",
    "        # Loop over all the books in the inventory\n",
    "        for bookId,book_sim in co_dict.items():\n",
    "            temp = 0\n",
    "            \n",
    "            # Loop over all the previouly rated book by a user and add the similarity b/w \n",
    "            # current book and EACH of the previously rated book.\n",
    "            # Compute final score by dividing total number of books user has already rated\n",
    "            for prev_rated in user_rating.keys(): \n",
    "                if prev_rated in book_sim.keys():\n",
    "                    temp += book_sim[prev_rated]\n",
    "                    \n",
    "            if temp != 0:\n",
    "                # To NORMALIZE score, divide score by total number of previouly rated books \n",
    "                temp /= len(user_rating)\n",
    "                flag = 1\n",
    "                score.append((bookId, temp))\n",
    "        score = sorted(score, key=itemgetter(1), reverse=True)[0:n]\n",
    "    \n",
    "        if flag == 1:\n",
    "            recom_books.setdefault(userId, 0)\n",
    "            recom_books[userId] = score\n",
    "    return recom_books[userId]\n",
    "    "
   ]
  },
  {
   "cell_type": "code",
   "execution_count": 64,
   "metadata": {
    "collapsed": false
   },
   "outputs": [],
   "source": [
    "recom = co_recommender(rating, cooccur, userId=\"103541\")"
   ]
  },
  {
   "cell_type": "code",
   "execution_count": 65,
   "metadata": {
    "collapsed": false
   },
   "outputs": [
    {
     "data": {
      "text/plain": [
       "[('3453096428', 0.007745726495726496),\n",
       " ('3453109546', 0.007745726495726496),\n",
       " ('3453126777', 0.004084967320261438),\n",
       " ('0552146161', 0.0022153092006033186),\n",
       " ('3499135566', 0.001736111111111111)]"
      ]
     },
     "execution_count": 65,
     "metadata": {},
     "output_type": "execute_result"
    }
   ],
   "source": [
    "recom"
   ]
  },
  {
   "cell_type": "code",
   "execution_count": null,
   "metadata": {
    "collapsed": false
   },
   "outputs": [],
   "source": [
    "book_data = gl.SFrame(\"./csv_files/BX-Books.csv\")"
   ]
  },
  {
   "cell_type": "code",
   "execution_count": 57,
   "metadata": {
    "collapsed": false
   },
   "outputs": [
    {
     "data": {
      "text/html": [
       "<div style=\"max-height:1000px;max-width:1500px;overflow:auto;\"><table frame=\"box\" rules=\"cols\">\n",
       "    <tr>\n",
       "        <th style=\"padding-left: 1em; padding-right: 1em; text-align: center\">book_id</th>\n",
       "        <th style=\"padding-left: 1em; padding-right: 1em; text-align: center\">title</th>\n",
       "        <th style=\"padding-left: 1em; padding-right: 1em; text-align: center\">author</th>\n",
       "        <th style=\"padding-left: 1em; padding-right: 1em; text-align: center\">year</th>\n",
       "        <th style=\"padding-left: 1em; padding-right: 1em; text-align: center\">publisher</th>\n",
       "    </tr>\n",
       "    <tr>\n",
       "        <td style=\"padding-left: 1em; padding-right: 1em; text-align: center; vertical-align: top\">195153448</td>\n",
       "        <td style=\"padding-left: 1em; padding-right: 1em; text-align: center; vertical-align: top\">Classical Mythology</td>\n",
       "        <td style=\"padding-left: 1em; padding-right: 1em; text-align: center; vertical-align: top\">Mark P. O. Morford</td>\n",
       "        <td style=\"padding-left: 1em; padding-right: 1em; text-align: center; vertical-align: top\">2002</td>\n",
       "        <td style=\"padding-left: 1em; padding-right: 1em; text-align: center; vertical-align: top\">Oxford University Press</td>\n",
       "    </tr>\n",
       "    <tr>\n",
       "        <td style=\"padding-left: 1em; padding-right: 1em; text-align: center; vertical-align: top\">2005018</td>\n",
       "        <td style=\"padding-left: 1em; padding-right: 1em; text-align: center; vertical-align: top\">Clara Callan</td>\n",
       "        <td style=\"padding-left: 1em; padding-right: 1em; text-align: center; vertical-align: top\">Richard Bruce Wright</td>\n",
       "        <td style=\"padding-left: 1em; padding-right: 1em; text-align: center; vertical-align: top\">2001</td>\n",
       "        <td style=\"padding-left: 1em; padding-right: 1em; text-align: center; vertical-align: top\">HarperFlamingo Canada</td>\n",
       "    </tr>\n",
       "    <tr>\n",
       "        <td style=\"padding-left: 1em; padding-right: 1em; text-align: center; vertical-align: top\">60973129</td>\n",
       "        <td style=\"padding-left: 1em; padding-right: 1em; text-align: center; vertical-align: top\">Decision in Normandy</td>\n",
       "        <td style=\"padding-left: 1em; padding-right: 1em; text-align: center; vertical-align: top\">Carlo D'Este</td>\n",
       "        <td style=\"padding-left: 1em; padding-right: 1em; text-align: center; vertical-align: top\">1991</td>\n",
       "        <td style=\"padding-left: 1em; padding-right: 1em; text-align: center; vertical-align: top\">HarperPerennial</td>\n",
       "    </tr>\n",
       "    <tr>\n",
       "        <td style=\"padding-left: 1em; padding-right: 1em; text-align: center; vertical-align: top\">374157065</td>\n",
       "        <td style=\"padding-left: 1em; padding-right: 1em; text-align: center; vertical-align: top\">Flu: The Story of the<br>Great Influenza Pandemic ...</td>\n",
       "        <td style=\"padding-left: 1em; padding-right: 1em; text-align: center; vertical-align: top\">Gina Bari Kolata</td>\n",
       "        <td style=\"padding-left: 1em; padding-right: 1em; text-align: center; vertical-align: top\">1999</td>\n",
       "        <td style=\"padding-left: 1em; padding-right: 1em; text-align: center; vertical-align: top\">Farrar Straus Giroux</td>\n",
       "    </tr>\n",
       "    <tr>\n",
       "        <td style=\"padding-left: 1em; padding-right: 1em; text-align: center; vertical-align: top\">393045218</td>\n",
       "        <td style=\"padding-left: 1em; padding-right: 1em; text-align: center; vertical-align: top\">The Mummies of Urumchi</td>\n",
       "        <td style=\"padding-left: 1em; padding-right: 1em; text-align: center; vertical-align: top\">E. J. W. Barber</td>\n",
       "        <td style=\"padding-left: 1em; padding-right: 1em; text-align: center; vertical-align: top\">1999</td>\n",
       "        <td style=\"padding-left: 1em; padding-right: 1em; text-align: center; vertical-align: top\">W. W. Norton &amp;amp,<br>Company ...</td>\n",
       "    </tr>\n",
       "    <tr>\n",
       "        <td style=\"padding-left: 1em; padding-right: 1em; text-align: center; vertical-align: top\">399135782</td>\n",
       "        <td style=\"padding-left: 1em; padding-right: 1em; text-align: center; vertical-align: top\">The Kitchen God's Wife</td>\n",
       "        <td style=\"padding-left: 1em; padding-right: 1em; text-align: center; vertical-align: top\">Amy Tan</td>\n",
       "        <td style=\"padding-left: 1em; padding-right: 1em; text-align: center; vertical-align: top\">1991</td>\n",
       "        <td style=\"padding-left: 1em; padding-right: 1em; text-align: center; vertical-align: top\">Putnam Pub Group</td>\n",
       "    </tr>\n",
       "    <tr>\n",
       "        <td style=\"padding-left: 1em; padding-right: 1em; text-align: center; vertical-align: top\">425176428</td>\n",
       "        <td style=\"padding-left: 1em; padding-right: 1em; text-align: center; vertical-align: top\">What If?: The World's<br>Foremost Military ...</td>\n",
       "        <td style=\"padding-left: 1em; padding-right: 1em; text-align: center; vertical-align: top\">Robert Cowley</td>\n",
       "        <td style=\"padding-left: 1em; padding-right: 1em; text-align: center; vertical-align: top\">2000</td>\n",
       "        <td style=\"padding-left: 1em; padding-right: 1em; text-align: center; vertical-align: top\">Berkley Publishing Group</td>\n",
       "    </tr>\n",
       "    <tr>\n",
       "        <td style=\"padding-left: 1em; padding-right: 1em; text-align: center; vertical-align: top\">671870432</td>\n",
       "        <td style=\"padding-left: 1em; padding-right: 1em; text-align: center; vertical-align: top\">PLEADING GUILTY</td>\n",
       "        <td style=\"padding-left: 1em; padding-right: 1em; text-align: center; vertical-align: top\">Scott Turow</td>\n",
       "        <td style=\"padding-left: 1em; padding-right: 1em; text-align: center; vertical-align: top\">1993</td>\n",
       "        <td style=\"padding-left: 1em; padding-right: 1em; text-align: center; vertical-align: top\">Audioworks</td>\n",
       "    </tr>\n",
       "    <tr>\n",
       "        <td style=\"padding-left: 1em; padding-right: 1em; text-align: center; vertical-align: top\">679425608</td>\n",
       "        <td style=\"padding-left: 1em; padding-right: 1em; text-align: center; vertical-align: top\">Under the Black Flag: The<br>Romance and the Reality ...</td>\n",
       "        <td style=\"padding-left: 1em; padding-right: 1em; text-align: center; vertical-align: top\">David Cordingly</td>\n",
       "        <td style=\"padding-left: 1em; padding-right: 1em; text-align: center; vertical-align: top\">1996</td>\n",
       "        <td style=\"padding-left: 1em; padding-right: 1em; text-align: center; vertical-align: top\">Random House</td>\n",
       "    </tr>\n",
       "    <tr>\n",
       "        <td style=\"padding-left: 1em; padding-right: 1em; text-align: center; vertical-align: top\">074322678X</td>\n",
       "        <td style=\"padding-left: 1em; padding-right: 1em; text-align: center; vertical-align: top\">Where You'll Find Me: And<br>Other Stories ...</td>\n",
       "        <td style=\"padding-left: 1em; padding-right: 1em; text-align: center; vertical-align: top\">Ann Beattie</td>\n",
       "        <td style=\"padding-left: 1em; padding-right: 1em; text-align: center; vertical-align: top\">2002</td>\n",
       "        <td style=\"padding-left: 1em; padding-right: 1em; text-align: center; vertical-align: top\">Scribner</td>\n",
       "    </tr>\n",
       "</table>\n",
       "[266655 rows x 5 columns]<br/>Note: Only the head of the SFrame is printed.<br/>You can use print_rows(num_rows=m, num_columns=n) to print more rows and columns.\n",
       "</div>"
      ],
      "text/plain": [
       "Columns:\n",
       "\tbook_id\tstr\n",
       "\ttitle\tstr\n",
       "\tauthor\tstr\n",
       "\tyear\tint\n",
       "\tpublisher\tstr\n",
       "\n",
       "Rows: 266655\n",
       "\n",
       "Data:\n",
       "+------------+-------------------------------+----------------------+------+\n",
       "|  book_id   |             title             |        author        | year |\n",
       "+------------+-------------------------------+----------------------+------+\n",
       "| 195153448  |      Classical Mythology      |  Mark P. O. Morford  | 2002 |\n",
       "|  2005018   |          Clara Callan         | Richard Bruce Wright | 2001 |\n",
       "|  60973129  |      Decision in Normandy     |     Carlo D'Este     | 1991 |\n",
       "| 374157065  | Flu: The Story of the Grea... |   Gina Bari Kolata   | 1999 |\n",
       "| 393045218  |     The Mummies of Urumchi    |   E. J. W. Barber    | 1999 |\n",
       "| 399135782  |     The Kitchen God's Wife    |       Amy Tan        | 1991 |\n",
       "| 425176428  | What If?: The World's Fore... |    Robert Cowley     | 2000 |\n",
       "| 671870432  |        PLEADING GUILTY        |     Scott Turow      | 1993 |\n",
       "| 679425608  | Under the Black Flag: The ... |   David Cordingly    | 1996 |\n",
       "| 074322678X | Where You'll Find Me: And ... |     Ann Beattie      | 2002 |\n",
       "+------------+-------------------------------+----------------------+------+\n",
       "+----------------------------+\n",
       "|         publisher          |\n",
       "+----------------------------+\n",
       "|  Oxford University Press   |\n",
       "|   HarperFlamingo Canada    |\n",
       "|      HarperPerennial       |\n",
       "|    Farrar Straus Giroux    |\n",
       "| W. W. Norton &amp, Company |\n",
       "|      Putnam Pub Group      |\n",
       "|  Berkley Publishing Group  |\n",
       "|         Audioworks         |\n",
       "|        Random House        |\n",
       "|          Scribner          |\n",
       "+----------------------------+\n",
       "[266655 rows x 5 columns]\n",
       "Note: Only the head of the SFrame is printed.\n",
       "You can use print_rows(num_rows=m, num_columns=n) to print more rows and columns."
      ]
     },
     "execution_count": 57,
     "metadata": {},
     "output_type": "execute_result"
    }
   ],
   "source": [
    "book_data = book_data[\"ISBN\", \"Book-Title\", \"Book-Author\", \"Year-Of-Publication\", \"Publisher\"]\n",
    "book_data.rename({\"ISBN\":\"book_id\", \"Book-Title\":\"title\", \"Book-Author\":\"author\", \"Year-Of-Publication\":\"year\",\n",
    "                      \"Publisher\":\"publisher\"})"
   ]
  },
  {
   "cell_type": "code",
   "execution_count": 66,
   "metadata": {
    "collapsed": false
   },
   "outputs": [],
   "source": [
    "total_list_books = []\n",
    "total_list_ids = []\n",
    "if recom:\n",
    "    for item in recom:\n",
    "        bookId = item[0]\n",
    "        if bookId in book_data[\"book_id\"]:\n",
    "            book_info = book_data[book_data[\"book_id\"] == bookId][0]\n",
    "            total_list_ids.append(book_info[\"book_id\"])\n",
    "            del(book_info[\"book_id\"])\n",
    "            total_list_books.append(book_info)"
   ]
  },
  {
   "cell_type": "code",
   "execution_count": 67,
   "metadata": {
    "collapsed": false
   },
   "outputs": [
    {
     "data": {
      "text/plain": [
       "[{'author': 'Terry Pratchett',\n",
       "  'publisher': 'Heyne',\n",
       "  'title': 'Ein gutes Omen.',\n",
       "  'year': 1997},\n",
       " {'author': 'Toni Morrison',\n",
       "  'publisher': \"Distribooks Int'l+inc\",\n",
       "  'title': 'Lazz',\n",
       "  'year': 0}]"
      ]
     },
     "execution_count": 67,
     "metadata": {},
     "output_type": "execute_result"
    }
   ],
   "source": [
    "total_list_books"
   ]
  },
  {
   "cell_type": "code",
   "execution_count": null,
   "metadata": {
    "collapsed": true
   },
   "outputs": [],
   "source": []
  }
 ],
 "metadata": {
  "kernelspec": {
   "display_name": "Python 2",
   "language": "python",
   "name": "python2"
  },
  "language_info": {
   "codemirror_mode": {
    "name": "ipython",
    "version": 2
   },
   "file_extension": ".py",
   "mimetype": "text/x-python",
   "name": "python",
   "nbconvert_exporter": "python",
   "pygments_lexer": "ipython2",
   "version": "2.7.11"
  }
 },
 "nbformat": 4,
 "nbformat_minor": 0
}
