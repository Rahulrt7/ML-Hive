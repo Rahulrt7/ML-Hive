{
 "cells": [
  {
   "cell_type": "code",
   "execution_count": null,
   "metadata": {
    "collapsed": false
   },
   "outputs": [],
   "source": [
    "import graphlab"
   ]
  },
  {
   "cell_type": "code",
   "execution_count": null,
   "metadata": {
    "collapsed": false
   },
   "outputs": [],
   "source": [
    "book_ratings_data = graphlab.SFrame.read_csv(\"BX-Book-Ratings.csv\", delimiter=\";\")"
   ]
  },
  {
   "cell_type": "code",
   "execution_count": null,
   "metadata": {
    "collapsed": false
   },
   "outputs": [],
   "source": [
    "book_ratings_data.head()"
   ]
  },
  {
   "cell_type": "code",
   "execution_count": null,
   "metadata": {
    "collapsed": false
   },
   "outputs": [],
   "source": [
    "high_rated_data = book_ratings_data[book_ratings_data[\"Book-Rating\"] >= 8]\n",
    "low_rated_data = book_ratings_data[book_ratings_data[\"Book-Rating\"] < 8]\n",
    "\n",
    "train_data_1, test_data = graphlab.recommender.util.random_split_by_user(high_rated_data, \n",
    "                                                                         user_id=\"User-ID\", item_id=\"ISBN\")\n",
    "train_data = train_data_1.append(low_rated_data)"
   ]
  },
  {
   "cell_type": "code",
   "execution_count": null,
   "metadata": {
    "collapsed": true
   },
   "outputs": [],
   "source": [
    "def my_popularity_recommender(train_data=None, user_id=\"user_id\", item_id=\"item_id\", \n",
    "                              user_data=None, item_data=None, rating=\"rating\"):\n",
    "    rating_10 = train_data[train_data[rating] == 10]\n",
    "    popular_books = rating_10.groupby(key_columns=item_id, \n",
    "                                              operations={\"count\": graphlab.aggregate.COUNT()})\n",
    "    popular_books = popular_books.sort(\"count\", ascending=False)\n",
    "    \n",
    "    print popular_books\n",
    "    pos_list = []\n",
    "    for i in range(len(item_data[item_id])):\n",
    "        if len(pos_list) == 5:\n",
    "            break\n",
    "        elif popular_books[item_id][i] in item_data[item_id]:\n",
    "            pos_list.append(i)\n",
    "    \n",
    "    most_popular_books_ids = []\n",
    "    most_popular_books = []\n",
    "    for pos in pos_list:\n",
    "        most_popular_books_ids.append(popular_books[item_id][pos])\n",
    "        \n",
    "    for ids in most_popular_books_ids:\n",
    "        most_popular_books.append(item_data[item_data[item_id] == ids][[\"Book-Title\", \"Book-Author\", \n",
    "                                                                          \"Year-Of-Publication\", \"Publisher\"]][0])\n",
    "    return most_popular_books, most_popular_books_ids"
   ]
  },
  {
   "cell_type": "code",
   "execution_count": null,
   "metadata": {
    "collapsed": false
   },
   "outputs": [],
   "source": [
    "data_book = graphlab.SFrame.read_csv(\"BX-Books.csv\")"
   ]
  },
  {
   "cell_type": "code",
   "execution_count": null,
   "metadata": {
    "collapsed": true
   },
   "outputs": [],
   "source": [
    "data_book = data_book[[\"ISBN\", \"Book-Title\", \"Book-Author\", \"Year-Of-Publication\", \"Publisher\"]]"
   ]
  },
  {
   "cell_type": "code",
   "execution_count": null,
   "metadata": {
    "collapsed": false
   },
   "outputs": [],
   "source": [
    "recommended_book, book_id = my_popularity_recommender(train_data, item_data=data_book,\n",
    "                                             user_id=\"User-ID\", item_id=\"ISBN\", rating=\"Book-Rating\")"
   ]
  },
  {
   "cell_type": "code",
   "execution_count": null,
   "metadata": {
    "collapsed": false
   },
   "outputs": [],
   "source": [
    "book_id"
   ]
  },
  {
   "cell_type": "code",
   "execution_count": null,
   "metadata": {
    "collapsed": false
   },
   "outputs": [],
   "source": [
    "len(test_data[\"User-ID\"].unique())"
   ]
  },
  {
   "cell_type": "code",
   "execution_count": null,
   "metadata": {
    "collapsed": false
   },
   "outputs": [],
   "source": [
    "unique_user = train_data[\"User-ID\"].unique()\n",
    "shown_books = 5\n",
    "liked_list = []\n",
    "liked_and_shown_list = []\n",
    "for user in unique_user:\n",
    "    count = 0\n",
    "    rated_books = test_data[test_data[\"User-ID\"] == user][\"ISBN\"]\n",
    "    liked_list.append(len(rated_books))\n",
    "    for book in rated_books:\n",
    "        if book in book_id:\n",
    "            count += 1\n",
    "    liked_and_shown_list.append(count)"
   ]
  },
  {
   "cell_type": "code",
   "execution_count": null,
   "metadata": {
    "collapsed": true
   },
   "outputs": [],
   "source": []
  }
 ],
 "metadata": {
  "kernelspec": {
   "display_name": "Python [alt-env]",
   "language": "python",
   "name": "Python [alt-env]"
  },
  "language_info": {
   "codemirror_mode": {
    "name": "ipython",
    "version": 2
   },
   "file_extension": ".py",
   "mimetype": "text/x-python",
   "name": "python",
   "nbconvert_exporter": "python",
   "pygments_lexer": "ipython2",
   "version": "2.7.12"
  }
 },
 "nbformat": 4,
 "nbformat_minor": 0
}
